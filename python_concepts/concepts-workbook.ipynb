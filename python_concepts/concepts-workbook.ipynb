{
 "cells": [
  {
   "cell_type": "code",
   "execution_count": 2,
   "metadata": {},
   "outputs": [],
   "source": [
    "import pandas as pd\n",
    "import numpy as np\n",
    "import matplotlib.pyplot as plt\n",
    "import requests\n",
    "from datetime import datetime"
   ]
  },
  {
   "cell_type": "code",
   "execution_count": 18,
   "metadata": {},
   "outputs": [
    {
     "name": "stdout",
     "output_type": "stream",
     "text": [
      "Exercise 1: List Comprehension\n",
      "range(1, 21)\n",
      "[1, 4, 9, 16, 25, 36, 49, 64, 81, 100, 121, 144, 169, 196, 225, 256, 289, 324, 361, 400]\n",
      "[2, 4, 6, 8, 10, 12, 14, 16, 18, 20]\n",
      "[6, 12, 18]\n"
     ]
    }
   ],
   "source": [
    "# Exercise 1: List Comprehension\n",
    "# Reference: list_comprehension.py\n",
    "print(\"Exercise 1: List Comprehension\")\n",
    "# Create a list of numbers 1-20, then use list comprehension to:\n",
    "# a) Create a list of their squares\n",
    "# b) Create a list of only even numbers\n",
    "# c) Create a list of numbers divisible by both 2 and 3\n",
    "\n",
    "# Your code here:\n",
    "numbers = range(1,21)\n",
    "print(numbers)\n",
    "\n",
    "squares = [x**2 for x in numbers]\n",
    "print(squares)\n",
    "\n",
    "evens = [x for x in numbers if x % 2 == 0]\n",
    "print(evens)\n",
    "\n",
    "divisible_by_2_and_3 = [x for x in numbers if x % 2 == 0 and x % 3 == 0]\n",
    "print(divisible_by_2_and_3)\n",
    "\n"
   ]
  },
  {
   "cell_type": "code",
   "execution_count": 23,
   "metadata": {},
   "outputs": [
    {
     "name": "stdout",
     "output_type": "stream",
     "text": [
      "\n",
      "Exercise 2: Lambda Functions\n",
      "[32.0, 37.4, 50.0, 212.0]\n",
      "False\n"
     ]
    }
   ],
   "source": [
    "# Exercise 2: Lambda Functions\n",
    "# Reference: lambda.py\n",
    "print(\"\\nExercise 2: Lambda Functions\")\n",
    "# Create lambda functions to:\n",
    "# a) Convert Celsius to Fahrenheit (F = C * 9/5 + 32)\n",
    "# b) Check if a string is a palindrome\n",
    "# c) Calculate the area of a triangle given base and height\n",
    "\n",
    "# Your code here:\n",
    "conversion = lambda x: x * 9/5 + 32\n",
    "temps = [0, 3, 10, 100]\n",
    "f = list(map(conversion, temps))\n",
    "print(f)\n",
    "\n",
    "# Palindrome\n",
    "# Word is the same forwards and backwards\n",
    "palindrome = 'A man a plan a canal Panama!'\n",
    "palindrome = palindrome.lower().replace(' ', '')\n",
    "palindrome_checker = lambda x: x == x[::-1]\n",
    "print(palindrome_checker(palindrome))"
   ]
  },
  {
   "cell_type": "code",
   "execution_count": 5,
   "metadata": {},
   "outputs": [
    {
     "name": "stdout",
     "output_type": "stream",
     "text": [
      "\n",
      "Exercise 3: F-Strings\n"
     ]
    }
   ],
   "source": [
    "# Exercise 3: F-Strings\n",
    "# Reference: f-strings.py\n",
    "print(\"\\nExercise 3: F-Strings\")\n",
    "# Create variables for:\n",
    "# - A person's name, age, and profession\n",
    "# - Current date\n",
    "# Format them in various f-strings to create:\n",
    "# a) A professional introduction\n",
    "# b) A formatted date string\n",
    "# c) A mathematical calculation within the f-string\n",
    "\n",
    "# Your code here:"
   ]
  },
  {
   "cell_type": "code",
   "execution_count": 6,
   "metadata": {},
   "outputs": [
    {
     "name": "stdout",
     "output_type": "stream",
     "text": [
      "\n",
      "Exercise 4: Decorators\n"
     ]
    }
   ],
   "source": [
    "# Exercise 4: Decorators\n",
    "# Reference: decorators.py\n",
    "print(\"\\nExercise 4: Decorators\")\n",
    "# Create decorators that:\n",
    "# a) Time how long a function takes to execute\n",
    "# b) Cache function results\n",
    "# c) Validate function arguments are positive numbers\n",
    "\n",
    "# Your code here:"
   ]
  },
  {
   "cell_type": "code",
   "execution_count": 7,
   "metadata": {},
   "outputs": [
    {
     "name": "stdout",
     "output_type": "stream",
     "text": [
      "\n",
      "Exercise 5: Pandas Operations\n"
     ]
    }
   ],
   "source": [
    "# Exercise 5: Pandas Operations\n",
    "# Reference: pandas/melt.py, pandas/groupby.py, pandas/apply.py\n",
    "print(\"\\nExercise 5: Pandas Operations\")\n",
    "# Create a sample DataFrame with:\n",
    "# - Student names\n",
    "# - Scores in different subjects (Math, Science, English)\n",
    "# - Grade levels\n",
    "# Then perform:\n",
    "# a) Melt the subject scores into a long format\n",
    "# b) Calculate average scores by grade level\n",
    "# c) Apply a grading function (A, B, C, D, F) to scores\n",
    "\n",
    "# Your code here:"
   ]
  },
  {
   "cell_type": "code",
   "execution_count": 8,
   "metadata": {},
   "outputs": [
    {
     "name": "stdout",
     "output_type": "stream",
     "text": [
      "\n",
      "Exercise 6: API Requests\n"
     ]
    }
   ],
   "source": [
    "# Exercise 6: API Requests\n",
    "# Reference: requests_library.py, weather-cli-idea.py\n",
    "print(\"\\nExercise 6: API Requests\")\n",
    "# Using the JSONPlaceholder API (https://jsonplaceholder.typicode.com):\n",
    "# a) Get a list of users\n",
    "# b) Get posts for a specific user\n",
    "# c) Create error handling for failed requests\n",
    "\n",
    "# Your code here:"
   ]
  },
  {
   "cell_type": "code",
   "execution_count": 9,
   "metadata": {},
   "outputs": [
    {
     "name": "stdout",
     "output_type": "stream",
     "text": [
      "\n",
      "Exercise 7: Data Visualization\n"
     ]
    }
   ],
   "source": [
    "# Exercise 7: Data Visualization\n",
    "# Reference: plotting-with-matplotlib.py\n",
    "print(\"\\nExercise 7: Data Visualization\")\n",
    "# Create a visualization that shows:\n",
    "# a) A line plot of monthly sales data\n",
    "# b) A scatter plot of price vs. quantity\n",
    "# c) A bar chart of category counts\n",
    "\n",
    "# Your code here:"
   ]
  },
  {
   "cell_type": "code",
   "execution_count": null,
   "metadata": {},
   "outputs": [],
   "source": []
  }
 ],
 "metadata": {
  "kernelspec": {
   "display_name": "venv",
   "language": "python",
   "name": "python3"
  },
  "language_info": {
   "codemirror_mode": {
    "name": "ipython",
    "version": 3
   },
   "file_extension": ".py",
   "mimetype": "text/x-python",
   "name": "python",
   "nbconvert_exporter": "python",
   "pygments_lexer": "ipython3",
   "version": "3.13.1"
  }
 },
 "nbformat": 4,
 "nbformat_minor": 2
}
